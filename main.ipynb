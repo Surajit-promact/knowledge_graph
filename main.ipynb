{
 "cells": [
  {
   "cell_type": "code",
   "execution_count": 8,
   "metadata": {},
   "outputs": [
    {
     "name": "stdout",
     "output_type": "stream",
     "text": [
      "Requirement already satisfied: neo4j in c:\\users\\admin\\projects\\assignments\\knowledge_graph\\.venv\\lib\\site-packages (5.24.0)\n",
      "Requirement already satisfied: pytz in c:\\users\\admin\\projects\\assignments\\knowledge_graph\\.venv\\lib\\site-packages (from neo4j) (2024.1)\n"
     ]
    },
    {
     "name": "stderr",
     "output_type": "stream",
     "text": [
      "\n",
      "[notice] A new release of pip is available: 24.1 -> 24.2\n",
      "[notice] To update, run: python.exe -m pip install --upgrade pip\n"
     ]
    }
   ],
   "source": [
    "!pip install neo4j"
   ]
  },
  {
   "cell_type": "code",
   "execution_count": 13,
   "metadata": {},
   "outputs": [],
   "source": [
    "from neo4j import GraphDatabase\n",
    "\n",
    "URI = 'bolt://localhost:7687'\n",
    "AUTH = (NEO4J_USERNAME, 'promact0')\n",
    "\n",
    "with GraphDatabase.driver(URI, auth=AUTH) as driver:\n",
    "    driver.verify_connectivity()"
   ]
  },
  {
   "cell_type": "code",
   "execution_count": null,
   "metadata": {},
   "outputs": [],
   "source": [
    "import Node\n",
    "Nodes=[\n",
    "    Node(id='deceased', type='Person'),\n",
    "    Node(id='Ram Kishore Chaudhary', type='Person'),\n",
    "    Node(id='Title Appeal No. 19 of 2006', type='Case'), \n",
    "    Node(id='death inquest report', type='Document'), \n",
    "    Node(id='statement of Beena Devi', type='Document'), \n",
    "    Node(id='brother of Ranjeet Choudhary', type='Person'), \n",
    "    Node(id='blood mark', type='Mark'), \n",
    "    Node(id='country made rifle', type='Weapon'), \n",
    "    Node(id='Magistrate', type='Person'), \n",
    "    Node(id='R.I. for 03 years', type='Sentence'), \n",
    "    Node(id='inquest report', type='Document'), \n",
    "    Node(id='Falka Pothiya P.S. Case No. 26 of 2008', type='Case'), \n",
    "    Node(id='Uday Kumar', type='Person'), \n",
    "    Node(id='statement of Uro Devi', type='Document'), \n",
    "    Node(id='land dispute', type='Dispute'), \n",
    "    Node(id='Suro Devi', type='Person'), \n",
    "    Node(id='Beena Devi', type='Person'), \n",
    "    Node(id='statement of Satyanarain Yadav', type='Document'), \n",
    "    Node(id='Ranjeet Choudhary', type='Person'), \n",
    "    Node(id='S.T. No. 204 of 2010', type='Case'), \n",
    "    Node(id='weapon', type='Weapon'), \n",
    "    Node(id='Satish Kumar Yadav', type='Person'), \n",
    "    Node(id='place of occurrence', type='Location'), \n",
    "    Node(id='Section 302 IPC', type='Law'), \n",
    "    Node(id='assault on his brother', type='Event'), \n",
    "    Node(id='fire arm injury', type='Injury'), \n",
    "    Node(id='palani', type='Structure'), \n",
    "    Node(id='Informant', type='Person'), \n",
    "    Node(id='Court', type='Court'), \n",
    "    Node(id='dead body of the deceased', type='Body'), \n",
    "    Node(id='Addl. District and Sessions Judge-II, Katihar', type='Court'), \n",
    "    Node(id='Anil Kumar', type='Person'), \n",
    "    Node(id='Dumar Chowk', type='Location'), \n",
    "    Node(id='Cr. Appeal (DB) No. 117 of 2013', type='Case'), \n",
    "    Node(id='wound of exit', type='Injury'), \n",
    "    Node(id='17.07.2008', type='Date'), \n",
    "    Node(id='Additional District and Sessions Judge-I, Katihar', type='Court'), \n",
    "    Node(id='Cr. Appeal (DB) No. 19 of 2013', type='Case'), \n",
    "    Node(id='fardbeyan', type='Document'), \n",
    "    Node(id='Title Suit No. 43 of 1998', type='Case'), \n",
    "    Node(id='Section 302/34 IPC', type='Law'), \n",
    "    Node(id='Mantaria Bandh', type='Location'), \n",
    "    Node(id='occurrence', type='Event'), \n",
    "    Node(id='F.I.R.', type='Document'), \n",
    "    Node(id='Section 27 of the Arms Act', type='Law'), \n",
    "    Node(id='statement of Satish Kumar Yadav', type='Document'), \n",
    "    Node(id='shell of cartridges', type='Object'), \n",
    "    Node(id='R.I. for life', type='Sentence'), \n",
    "    Node(id='Police Station', type='Location')\n",
    "]"
   ]
  },
  {
   "cell_type": "code",
   "execution_count": null,
   "metadata": {},
   "outputs": [],
   "source": [
    "import Relationship\n",
    "Relationships=[\n",
    "    Relationship(source=Node(id='Ranjeet Choudhary', type='Person'), target=Node(id='Section 302 IPC', type='Law'), type='CONVICTED_OF'), \n",
    "    Relationship(source=Node(id='Ranjeet Choudhary', type='Person'), target=Node(id='Section 27 of the Arms Act', type='Law'), type='CONVICTED_OF'), \n",
    "    Relationship(source=Node(id='Ram Kishore Chaudhary', type='Person'), target=Node(id='Section 302/34 IPC', type='Law'), type='CONVICTED_OF'), \n",
    "    Relationship(source=Node(id='Ranjeet Choudhary', type='Person'), target=Node(id='R.I. for life', type='Sentence'), type='SENTENCED_TO'), \n",
    "    Relationship(source=Node(id='Ram Kishore Chaudhary', type='Person'), target=Node(id='R.I. for life', type='Sentence'), type='SENTENCED_TO'), \n",
    "    Relationship(source=Node(id='Ranjeet Choudhary', type='Person'), target=Node(id='R.I. for 03 years', type='Sentence'), type='SENTENCED_TO'), \n",
    "    Relationship(source=Node(id='Ranjeet Choudhary', type='Person'), target=Node(id='Addl. District and Sessions Judge-II, Katihar', type='Court'), type='WORKS_FOR'), \n",
    "    Relationship(source=Node(id='Ram Kishore Chaudhary', type='Person'), target=Node(id='Addl. District and Sessions Judge-II, Katihar', type='Court'), type='WORKS_FOR'), \n",
    "    Relationship(source=Node(id='S.T. No. 204 of 2010', type='Case'), target=Node(id='Addl. District and Sessions Judge-II, Katihar', type='Court'), type='HELD_IN'), \n",
    "    Relationship(source=Node(id='S.T. No. 204 of 2010', type='Case'), target=Node(id='Ranjeet Choudhary', type='Person'), type='CONCERNING'), \n",
    "    Relationship(source=Node(id='S.T. No. 204 of 2010', type='Case'), target=Node(id='Ram Kishore Chaudhary', type='Person'), type='CONCERNING'), \n",
    "    Relationship(source=Node(id='Cr. Appeal (DB) No. 117 of 2013', type='Case'), target=Node(id='Ranjeet Choudhary', type='Person'), type='CONCERNING'), \n",
    "    Relationship(source=Node(id='Cr. Appeal (DB) No. 19 of 2013', type='Case'), target=Node(id='Ram Kishore Chaudhary', type='Person'), type='CONCERNING'), \n",
    "    Relationship(source=Node(id='Falka Pothiya P.S. Case No. 26 of 2008', type='Case'), target=Node(id='Ranjeet Choudhary', type='Person'), type='CONCERNING'), \n",
    "    Relationship(source=Node(id='Falka Pothiya P.S. Case No. 26 of 2008', type='Case'), target=Node(id='Ram Kishore Chaudhary', type='Person'), type='CONCERNING'), \n",
    "    Relationship(source=Node(id='Falka Pothiya P.S. Case No. 26 of 2008', type='Case'), target=Node(id='Uday Kumar', type='Person'), type='INVESTIGATED_BY'), \n",
    "    Relationship(source=Node(id='Falka Pothiya P.S. Case No. 26 of 2008', type='Case'), target=Node(id='Informant', type='Person'), type='FILED_BY'), \n",
    "    Relationship(source=Node(id='Title Suit No. 43 of 1998', type='Case'), target=Node(id='deceased', type='Person'), type='FILED_BY'), \n",
    "    Relationship(source=Node(id='Title Suit No. 43 of 1998', type='Case'), target=Node(id='Ranjeet Choudhary', type='Person'), type='CONCERNING'), \n",
    "    Relationship(source=Node(id='Title Suit No. 43 of 1998', type='Case'), target=Node(id='brother of Ranjeet Choudhary', type='Person'), type='CONCERNING'), \n",
    "    Relationship(source=Node(id='Title Appeal No. 19 of 2006', type='Case'), target=Node(id='Ranjeet Choudhary', type='Person'), type='FILED_BY'), \n",
    "    Relationship(source=Node(id='Title Appeal No. 19 of 2006', type='Case'), target=Node(id='Additional District and Sessions Judge-I, Katihar', type='Court'), type='HELD_IN'), \n",
    "    Relationship(source=Node(id='deceased', type='Person'), target=Node(id='land dispute', type='Dispute'), type='INVOLVED_IN'), Relationship(source=Node(id='Ranjeet Choudhary', type='Person'), target=Node(id='land dispute', type='Dispute'), type='INVOLVED_IN'), \n",
    "    Relationship(source=Node(id='Ram Kishore Chaudhary', type='Person'), target=Node(id='land dispute', type='Dispute'), type='INVOLVED_IN'), \n",
    "    Relationship(source=Node(id='Informant', type='Person'), target=Node(id='land dispute', type='Dispute'), type='INVOLVED_IN'), Relationship(source=Node(id='deceased', type='Person'), target=Node(id='fire arm injury', type='Injury'), type='DIED_FROM'), Relationship(source=Node(id='deceased', type='Person'), target=Node(id='fire arm injury', type='Injury'), type='RECEIVED_INJURY'), \n",
    "    Relationship(source=Node(id='deceased', type='Person'), target=Node(id='wound of exit', type='Injury'), type='RECEIVED_INJURY'), Relationship(source=Node(id='deceased', type='Person'), target=Node(id='Mantaria Bandh', type='Location'), type='DIED_AT'), Relationship(source=Node(id='deceased', type='Person'), target=Node(id='palani', type='Structure'), type='CONSTRUCTING'), Relationship(source=Node(id='Informant', type='Person'), target=Node(id='palani', type='Structure'), type='CONSTRUCTING'), Relationship(source=Node(id='Ranjeet Choudhary', type='Person'), target=Node(id='country made rifle', type='Weapon'), type='USED'), \n",
    "    Relationship(source=Node(id='Ram Kishore Chaudhary', type='Person'), target=Node(id='weapon', type='Weapon'), type='USED'), Relationship(source=Node(id='Ranjeet Choudhary', type='Person'), target=Node(id='Ram Kishore Chaudhary', type='Person'), type='ORDERED_BY'), \n",
    "    Relationship(source=Node(id='Ranjeet Choudhary', type='Person'), target=Node(id='deceased', type='Person'), type='FIRED_AT'), Relationship(source=Node(id='Ranjeet Choudhary', type='Person'), target=Node(id='Suro Devi', type='Person'), type='FIRED_AT'), Relationship(source=Node(id='Suro Devi', type='Person'), target=Node(id='fire arm injury', type='Injury'), type='RECEIVED_INJURY'), \n",
    "    Relationship(source=Node(id='Suro Devi', type='Person'), target=Node(id='deceased', type='Person'), type='MOTHER_OF'), Relationship(source=Node(id='Suro Devi', type='Person'), target=Node(id='Informant', type='Person'), type='MOTHER_OF'), Relationship(source=Node(id='Beena Devi', type='Person'), target=Node(id='Satish Kumar Yadav', type='Person'), type='MOTHER_OF'), Relationship(source=Node(id='Uday Kumar', type='Person'), target=Node(id='fardbeyan', type='Document'), type='RECORDED'), Relationship(source=Node(id='Uday Kumar', type='Person'), target=Node(id='death inquest report', type='Document'), type='PREPARED'), \n",
    "    Relationship(source=Node(id='Uday Kumar', type='Person'), target=Node(id='statement of Satish Kumar Yadav', type='Document'), type='RECORDED'), \n",
    "    Relationship(source=Node(id='Uday Kumar', type='Person'), target=Node(id='statement of Uro Devi', type='Document'), type='RECORDED'), \n",
    "    Relationship(source=Node(id='Uday Kumar', type='Person'), target=Node(id='statement of Beena Devi', type='Document'), type='RECORDED'), \n",
    "    Relationship(source=Node(id='Uday Kumar', type='Person'), target=Node(id='statement of Satyanarain Yadav', type='Document'), type='RECORDED'), \n",
    "    Relationship(source=Node(id='Uday Kumar', type='Person'), target=Node(id='Informant', type='Person'), type='MET'), \n",
    "    Relationship(source=Node(id='Uday Kumar', type='Person'), target=Node(id='occurrence', type='Event'), type='HEARD_ABOUT'), Relationship(source=Node(id='Uday Kumar', type='Person'), target=Node(id='dead body of the deceased', type='Body'), type='FOUND'), \n",
    "    Relationship(source=Node(id='Uday Kumar', type='Person'), target=Node(id='blood mark', type='Mark'), type='DID_NOT_FIND'), Relationship(source=Node(id='Uday Kumar', type='Person'), target=Node(id='shell of cartridges', type='Object'), type='DID_NOT_FIND'), \n",
    "    Relationship(source=Node(id='Informant', type='Person'), target=Node(id='assault on his brother', type='Event'), type='SAW'), Relationship(source=Node(id='Informant', type='Person'), target=Node(id='place of occurrence', type='Location'), type='FLED_FROM'), \n",
    "    Relationship(source=Node(id='Informant', type='Person'), target=Node(id='Dumar Chowk', type='Location'), type='WENT_TO'), Relationship(source=Node(id='Informant', type='Person'), target=Node(id='Police Station', type='Location'), type='WENT_TO'), Relationship(source=Node(id='Informant', type='Person'), target=Node(id='inquest report', type='Document'), type='SIGNED'), Relationship(source=Node(id='Anil Kumar', type='Person'), target=Node(id='inquest report', type='Document'), type='SIGNED'), Relationship(source=Node(id='F.I.R.', type='Document'), target=Node(id='17.07.2008', type='Date'), type='REGISTERED_ON'), Relationship(source=Node(id='F.I.R.', type='Document'), target=Node(id='Court', type='Court'), type='DISPATCH_TO'), \n",
    "    Relationship(source=Node(id='F.I.R.', type='Document'), target=Node(id='Magistrate', type='Person'), type='SEEN_BY'), \n",
    "    Relationship(source=Node(id='F.I.R.', type='Document'), target=Node(id='Magistrate', type='Person'), type='SIGNED_BY'), Relationship(source=Node(id='Magistrate', type='Person'), target=Node(id='F.I.R.', type='Document'), type='SEEN'), \n",
    "    Relationship(source=Node(id='Magistrate', type='Person'), target=Node(id='F.I.R.', type='Document'), type='SIGNED')\n",
    "]"
   ]
  },
  {
   "cell_type": "code",
   "execution_count": null,
   "metadata": {},
   "outputs": [],
   "source": [
    "\n",
    "abc = [\n",
    "    GraphDocument(\n",
    "        nodes=[Node(id='deceased', type='Person'), Node(id='Ram Kishore Chaudhary', type='Person'), ],\n",
    "\n",
    "        relationships=[Relationship(source=Node(id='Ranjeet Choudhary', type='Person'), target=Node(id='Section 302 IPC', \n",
    "            type='Law'), type='CONVICTED_OF'), ], \n",
    "\n",
    "        source=Document(\n",
    "            metadata={'source': 'html_data\\\\1197362.htm', 'title': ''}, \n",
    "            page_content='@JUDGMENTTAG-JUDGMENT\\nMr. Kishore Kumar Mandal, J. (Oral)—These two appeals, each filed by one appellant, are directed against the judgment of conviction dated 19.12.2012 and the order of sentence dated 24.12.2012, passed by learned Addl. District and Sessions e.\\n'\n",
    "        )\n",
    "    )\n",
    "]"
   ]
  },
  {
   "cell_type": "code",
   "execution_count": null,
   "metadata": {},
   "outputs": [],
   "source": [
    "Node = ['Case', 'Court', 'ApplealedCase', 'CourtData', 'SummaryData', 'CitationsData']\n",
    "Relationships = ['Appeal_from', 'Appeal_to', 'Is_case', 'Has_data', 'Neighbouring_data']\n",
    "NodeProperties = {\n",
    "    'Case':['case_name', 'case_no', 'result', 'overruled', 'overruled_by'], \n",
    "    'Court':['courst_name', 'Court_abbreviation'], \n",
    "    'ApplealedCase':['case_name', 'case_no', 'result', 'overruled', 'overruled_by'], \n",
    "    'CourtData':['type_of_case', 'petetioner', 'respondent', 'coram', 'petetioner_counsel', 'respondent_counsel', 'act', 'bench', 'dated', 'reportable', 'case_no'], \n",
    "    'SummaryData':['case_no', 'evidence', 'conclusion', 'courts_reasoning', 'precedent_analysis', 'legal_analysis',  'respondents_arguments', 'petitioners_arguments', 'issues', 'facts', 'summary'], \n",
    "    'CitationsData':['citations', 'cited', 'headnotes', 'case_referred', 'keywords','case_no']\n",
    "}\n",
    "Relationship_between = [\n",
    "    {\n",
    "        'source':'Court',\n",
    "        'target':'Case',\n",
    "        'relationship':'Is_case'\n",
    "    },\n",
    "    {\n",
    "        'source':'Court',\n",
    "        'target':'AppealedCase',\n",
    "        'relationship':'Is_case'\n",
    "    },\n",
    "    {\n",
    "        'source':'AppealedCase',\n",
    "        'target':'Case',\n",
    "        'relationship':'Appeal_from'\n",
    "    },\n",
    "    {\n",
    "        'source':'Case',\n",
    "        'target':'AppealedCase',\n",
    "        'relationship':'Appeal_to'\n",
    "    },\n",
    "    {\n",
    "        'source':'Case',\n",
    "        'target':'CourtData',\n",
    "        'relationship':'Has_data'\n",
    "    },\n",
    "    {\n",
    "        'source':'Case',\n",
    "        'target':'SummaryData',\n",
    "        'relationship':'Has_data'\n",
    "    },\n",
    "    {\n",
    "        'source':'Case',\n",
    "        'target':'CitationsData',\n",
    "        'relationship':'Has_data'\n",
    "    },\n",
    "    {\n",
    "        'source':'CitationsData',\n",
    "        'target':'CourtData',\n",
    "        'relationship':'Neighbouring_data'\n",
    "    },\n",
    "    {\n",
    "        'source':'CitationsData',\n",
    "        'target':'SummaryData',\n",
    "        'relationship':'Neighbouring_data'\n",
    "    },\n",
    "    {\n",
    "        'source':'CourtData',\n",
    "        'target':'CitationsData',\n",
    "        'relationship':'Neighbouring_data'\n",
    "    },\n",
    "    {\n",
    "        'source':'SummaryData',\n",
    "        'target':'CitationsData',\n",
    "        'relationship':'Neighbouring_data'\n",
    "    },\n",
    "    {\n",
    "        'source':'CourtData',\n",
    "        'target':'SummaryData',\n",
    "        'relationship':'Neighbouring_data'\n",
    "    },\n",
    "    {\n",
    "        'source':'SummaryData',\n",
    "        'target':'CourtData',\n",
    "        'relationship':'Neighbouring_data'\n",
    "    },\n",
    "]\n",
    "\n"
   ]
  },
  {
   "cell_type": "code",
   "execution_count": 1,
   "metadata": {},
   "outputs": [
    {
     "name": "stderr",
     "output_type": "stream",
     "text": [
      "c:\\Users\\admin\\Projects\\Assignments\\knowledge_graph\\.venv\\Lib\\site-packages\\langsmith\\client.py:312: LangSmithMissingAPIKeyWarning: API key must be provided when using hosted LangSmith API\n",
      "  warnings.warn(\n",
      "c:\\Users\\admin\\Projects\\Assignments\\knowledge_graph\\.venv\\Lib\\site-packages\\langsmith\\client.py:5489: LangChainBetaWarning: The function `loads` is in beta. It is actively being worked on, so the API may change.\n",
      "  prompt = loads(json.dumps(prompt_object.manifest))\n"
     ]
    }
   ],
   "source": [
    "from langchain import hub\n",
    "\n",
    "prompt = hub.pull(\"hwchase17/react\")"
   ]
  },
  {
   "cell_type": "code",
   "execution_count": 2,
   "metadata": {},
   "outputs": [
    {
     "name": "stderr",
     "output_type": "stream",
     "text": [
      "c:\\Users\\admin\\Projects\\Assignments\\knowledge_graph\\.venv\\Lib\\site-packages\\tqdm\\auto.py:21: TqdmWarning: IProgress not found. Please update jupyter and ipywidgets. See https://ipywidgets.readthedocs.io/en/stable/user_install.html\n",
      "  from .autonotebook import tqdm as notebook_tqdm\n"
     ]
    }
   ],
   "source": [
    "import os\n",
    "from dotenv import load_dotenv\n",
    "from langchain_community.graphs import Neo4jGraph\n",
    "from langchain.prompts import PromptTemplate\n",
    "from langchain_google_genai import GoogleGenerativeAI\n",
    "from neomodel import db, config\n",
    "\n",
    "\n",
    "load_dotenv()\n",
    "google_api_key = os.getenv('GOOGLE_API_KEY')\n",
    "url = os.getenv('NEO4J_URI')\n",
    "username = os.getenv('NEO4J_USERNAME')\n",
    "password = os.getenv('NEO4J_PASSWORD')\n",
    "neo4j_url = os.getenv('NEO4J_URI_0')\n",
    "database = 'newdb'"
   ]
  },
  {
   "cell_type": "code",
   "execution_count": 3,
   "metadata": {},
   "outputs": [
    {
     "name": "stdout",
     "output_type": "stream",
     "text": [
      "Node properties:\n",
      "Court {court_name: STRING, court_abbreviation: STRING}\n",
      "Case {case_name: STRING, result: STRING, case_no: STRING, overruled: STRING, overruled_by: STRING}\n",
      "CourtData {reportable: STRING, petitioner: STRING, case_type: STRING, respondent: STRING, bench: STRING, coram: STRING, dated: STRING, case_no: STRING, petitioner_counsel: STRING, respondent_counsel: STRING, act: STRING}\n",
      "SummaryData {petitioners_arguments: STRING, courts_reasoning: STRING, summary: STRING, evidence: STRING, respondents_arguments: STRING, issues: STRING, facts: STRING, case_no: STRING, conclusion: STRING, legal_analysis: STRING, precedent_analysis: STRING}\n",
      "CitationsData {case_no: STRING, cited: STRING, citations: STRING, case_referred: STRING, keywords: STRING, headnotes: STRING}\n",
      "Relationship properties:\n",
      "\n",
      "The relationships:\n",
      "(:Court)-[:Is_case]->(:Case)\n",
      "(:Case)-[:Has_data]->(:CitationsData)\n",
      "(:Case)-[:Has_data]->(:SummaryData)\n",
      "(:Case)-[:Has_data]->(:CourtData)\n",
      "(:CourtData)-[:Neighbouring_data]->(:SummaryData)\n",
      "(:CourtData)-[:Neighbouring_data]->(:CitationsData)\n",
      "(:SummaryData)-[:Neighbouring_data]->(:CourtData)\n",
      "(:SummaryData)-[:Neighbouring_data]->(:CitationsData)\n",
      "(:CitationsData)-[:Neighbouring_data]->(:SummaryData)\n",
      "(:CitationsData)-[:Neighbouring_data]->(:CourtData)\n"
     ]
    }
   ],
   "source": [
    "graph = Neo4jGraph(url=url, username=username, password=password, database=database)\n",
    "print(graph.schema)"
   ]
  }
 ],
 "metadata": {
  "kernelspec": {
   "display_name": ".venv",
   "language": "python",
   "name": "python3"
  },
  "language_info": {
   "codemirror_mode": {
    "name": "ipython",
    "version": 3
   },
   "file_extension": ".py",
   "mimetype": "text/x-python",
   "name": "python",
   "nbconvert_exporter": "python",
   "pygments_lexer": "ipython3",
   "version": "3.11.9"
  }
 },
 "nbformat": 4,
 "nbformat_minor": 2
}
